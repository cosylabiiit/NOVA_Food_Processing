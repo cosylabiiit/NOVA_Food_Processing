{
 "cells": [
  {
   "cell_type": "code",
   "execution_count": null,
   "metadata": {},
   "outputs": [],
   "source": [
    "import pandas as pd\n",
    "\n",
    "def read_csv_to_dataframe(file_path):\n",
    "    try:\n",
    "        df = pd.read_csv(file_path)\n",
    "        return df\n",
    "    except Exception as e:\n",
    "        print(\"An error occurred:\", e)\n",
    "        return None\n",
    "    "
   ]
  },
  {
   "cell_type": "code",
   "execution_count": null,
   "metadata": {},
   "outputs": [],
   "source": [
    "data= read_csv_to_dataframe(\"/home/nalin21478/BTP/ML-food-Processing/ML in Food Processing/Data/102_Data.csv\")\n",
    "path_smote=\"/home/nalin21478/BTP/ML-food-Processing/ML in Food Processing/models_102/smote\"\n",
    "path_strat=\"/home/nalin21478/BTP/ML-food-Processing/ML in Food Processing/models_102/strat\"\n",
    "path_smote_strat=\"/home/nalin21478/BTP/ML-food-Processing/ML in Food Processing/models_102/smote_strat\""
   ]
  },
  {
   "cell_type": "code",
   "execution_count": null,
   "metadata": {},
   "outputs": [],
   "source": [
    "from sklearn.model_selection import train_test_split\n",
    "X=data.iloc[:,:-1]\n",
    "y=data.iloc[:,-1]\n",
    "X_train, X_test, y_train, y_test = train_test_split(X, y, test_size=0.2, random_state=42)"
   ]
  },
  {
   "cell_type": "code",
   "execution_count": null,
   "metadata": {},
   "outputs": [],
   "source": [
    "from sklearn.svm import SVC\n",
    "svm=SVC(probability=True)"
   ]
  },
  {
   "cell_type": "code",
   "execution_count": null,
   "metadata": {},
   "outputs": [],
   "source": [
    "from Utility_model_training import evaluate_classifier_with_stratified_kfold, evaluate_classifier_with_kfold_smote, evaluate_classifier_with_stratified_smote\n",
    "evaluate_classifier_with_stratified_smote(X_train, y_train, X_test, y_test, svm, num_folds=10,save_path=path_smote_strat,model_name=\"svm_classifier_smote_stratified\")\n",
    "evaluate_classifier_with_stratified_kfold(X_train, y_train, X_test, y_test, svm, num_folds=10,save_path=path_strat,model_name=\"svm_classifier_stratified\")\n",
    "evaluate_classifier_with_kfold_smote(X_train, y_train, X_test, y_test, svm, num_folds=10,save_path=path_smote,model_name=\"svm_classifier_smote\")"
   ]
  },
  {
   "cell_type": "code",
   "execution_count": null,
   "metadata": {},
   "outputs": [],
   "source": [
    "path_smote_strat_ROC = \"/home/nalin21478/BTP/ML-food-Processing/ML in Food Processing/models_102/smote_strat/ROC_Curves\"\n",
    "path_strat_ROC = \"/home/nalin21478/BTP/ML-food-Processing/ML in Food Processing/models_102/strat/ROC_Curves\"\n",
    "path_smote_ROC = \"/home/nalin21478/BTP/ML-food-Processing/ML in Food Processing/models_102/smote/ROC_Curves\"\n",
    "from Utility_ROC_Curves import plot_roc_curves_multiclass_smote_strat,plot_roc_curves_multiclass_smote, plot_roc_curves_multiclass_strat\n",
    "plot_roc_curves_multiclass_smote_strat(svm, X, y, n_splits=10, save_folder=path_smote_strat_ROC, model_name=\"svm_KFold_SMOTE_strat\")\n",
    "plot_roc_curves_multiclass_strat(svm, X, y, n_splits=10, save_folder=path_strat_ROC, model_name=\"svm_KFold_Strat\")\n",
    "plot_roc_curves_multiclass_smote(svm, X, y, n_splits=10, save_folder=path_smote_ROC, model_name=\"svm_KFold_SMOTE\")\n"
   ]
  }
 ],
 "metadata": {
  "kernelspec": {
   "display_name": "scikit-learn",
   "language": "python",
   "name": "python3"
  },
  "language_info": {
   "codemirror_mode": {
    "name": "ipython",
    "version": 3
   },
   "file_extension": ".py",
   "mimetype": "text/x-python",
   "name": "python",
   "nbconvert_exporter": "python",
   "pygments_lexer": "ipython3",
   "version": "3.11.7"
  }
 },
 "nbformat": 4,
 "nbformat_minor": 2
}
