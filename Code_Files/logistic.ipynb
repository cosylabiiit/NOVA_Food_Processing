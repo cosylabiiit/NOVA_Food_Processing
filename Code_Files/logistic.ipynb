{
 "cells": [
  {
   "cell_type": "code",
   "execution_count": null,
   "metadata": {},
   "outputs": [],
   "source": [
    "import pandas as pd\n",
    "\n",
    "def read_csv_to_dataframe(file_path):\n",
    "    try:\n",
    "        df = pd.read_csv(file_path)\n",
    "        return df\n",
    "    except Exception as e:\n",
    "        print(\"An error occurred:\", e)\n",
    "        return None\n",
    "    "
   ]
  },
  {
   "cell_type": "code",
   "execution_count": null,
   "metadata": {},
   "outputs": [],
   "source": [
    "data= read_csv_to_dataframe(\"/home/nalin21478/BTP/ML-food-Processing/ML in Food Processing/Data/102_Data.csv\")\n",
    "path_smote=\"/home/nalin21478/BTP/ML-food-Processing/ML in Food Processing/models_102/smote\"\n",
    "path_strat=\"/home/nalin21478/BTP/ML-food-Processing/ML in Food Processing/models_102/strat\"\n",
    "path_smote_strat=\"/home/nalin21478/BTP/ML-food-Processing/ML in Food Processing/models_102/smote_strat\""
   ]
  },
  {
   "cell_type": "code",
   "execution_count": null,
   "metadata": {},
   "outputs": [],
   "source": [
    "from sklearn.model_selection import train_test_split\n",
    "X=data.iloc[:,:-1]\n",
    "y=data.iloc[:,-1]\n",
    "X_train, X_test, y_train, y_test = train_test_split(X, y, test_size=0.2, random_state=42)"
   ]
  },
  {
   "cell_type": "code",
   "execution_count": null,
   "metadata": {},
   "outputs": [],
   "source": [
    "from sklearn.model_selection import RandomizedSearchCV\n",
    "from sklearn.linear_model import LogisticRegression\n",
    "from sklearn.model_selection import StratifiedKFold\n",
    "from sklearn.metrics import accuracy_score\n",
    "from sklearn.preprocessing import StandardScaler\n",
    "from imblearn.over_sampling import SMOTE\n",
    "import pandas as pd\n",
    "import numpy as np\n",
    "\n",
    "def tune_logistic_regression_hyperparameters(X_train, y_train, X_test, y_test):\n",
    "    param_dist = {\n",
    "        'penalty': ['l2'],  # Use only 'l2' for 'sag' solver\n",
    "        'C': np.logspace(-3, 2, 100),  # Adjust the range as needed\n",
    "        'solver': ['lbfgs', 'liblinear', 'newton-cg', 'sag', 'saga'],  # Use only 'sag' solver\n",
    "        'multi_class': ['ovr', 'multinomial'],\n",
    "        'max_iter': np.arange(100, 301, 10),  # Adjust the range as needed\n",
    "    }\n",
    "\n",
    "    lr_classifier = LogisticRegression(random_state=42)\n",
    "\n",
    "    scaler = StandardScaler()\n",
    "\n",
    "\n",
    "    X_train_scaled = scaler.fit_transform(X_train)\n",
    "\n",
    "\n",
    "    X_test_scaled = scaler.transform(X_test)\n",
    "\n",
    "    cv_strategy = StratifiedKFold(n_splits=5, shuffle=True, random_state=42)\n",
    "\n",
    "    random_search = RandomizedSearchCV(\n",
    "        lr_classifier, param_distributions=param_dist, n_iter=50, cv=cv_strategy, scoring='accuracy', random_state=42\n",
    "    )\n",
    "    \n",
    "    random_search.fit(X_train, y_train)\n",
    "\n",
    "    results_df = pd.DataFrame(random_search.cv_results_)\n",
    "\n",
    "    results_df.to_csv('logistic_regression_random_search_tuning_results.csv', index=False)\n",
    "\n",
    "    print(f\"Best Hyperparameters: {random_search.best_params_}\")\n",
    "    print(f\"Best Accuracy: {random_search.best_score_}\")\n",
    "\n",
    "    y_train_pred = random_search.best_estimator_.predict(X_train)\n",
    "    train_accuracy = accuracy_score(y_train, y_train_pred)\n",
    "    print(f\"Train Accuracy: {train_accuracy}\")\n",
    "\n",
    "    y_test_pred = random_search.best_estimator_.predict(X_test_scaled)\n",
    "    test_accuracy = accuracy_score(y_test, y_test_pred)\n",
    "    print(f\"Test Accuracy: {test_accuracy}\")\n",
    "    return random_search.best_params_\n",
    "\n",
    "\n",
    "\n",
    "\n",
    "params=tune_logistic_regression_hyperparameters(X_train, y_train, X_test, y_test)\n"
   ]
  },
  {
   "cell_type": "code",
   "execution_count": null,
   "metadata": {},
   "outputs": [],
   "source": [
    "params"
   ]
  },
  {
   "cell_type": "code",
   "execution_count": null,
   "metadata": {},
   "outputs": [],
   "source": [
    "from sklearn.linear_model import LogisticRegression\n",
    "lr=LogisticRegression(**params)"
   ]
  },
  {
   "cell_type": "code",
   "execution_count": null,
   "metadata": {},
   "outputs": [],
   "source": [
    "from Utility_model_training import evaluate_classifier_with_stratified_kfold, evaluate_classifier_with_kfold_smote, evaluate_classifier_with_stratified_smote\n",
    "evaluate_classifier_with_stratified_smote(X_train, y_train, X_test, y_test, lr, num_folds=10,save_path=path_smote_strat,model_name=\"lr_classifier_smote_stratified\")\n",
    "evaluate_classifier_with_stratified_kfold(X_train, y_train, X_test, y_test, lr, num_folds=10,save_path=path_strat,model_name=\"lr_classifier_stratified\")\n",
    "evaluate_classifier_with_kfold_smote(X_train, y_train, X_test, y_test, lr, num_folds=10,save_path=path_smote,model_name=\"lr_classifier_smote\")"
   ]
  },
  {
   "cell_type": "code",
   "execution_count": null,
   "metadata": {},
   "outputs": [],
   "source": [
    "path_smote_strat_ROC = \"/home/nalin21478/BTP/ML-food-Processing/ML in Food Processing/models_102/smote_strat/ROC_Curves\"\n",
    "path_strat_ROC = \"/home/nalin21478/BTP/ML-food-Processing/ML in Food Processing/models_102/strat/ROC_Curves\"\n",
    "path_smote_ROC = \"/home/nalin21478/BTP/ML-food-Processing/ML in Food Processing/models_102/smote/ROC_Curves\"\n",
    "from Utility_ROC_Curves import plot_roc_curves_multiclass_smote_strat,plot_roc_curves_multiclass_smote, plot_roc_curves_multiclass_strat\n",
    "plot_roc_curves_multiclass_smote_strat(lr, X, y, n_splits=10, save_folder=path_smote_strat_ROC, model_name=\"lr_KFold_SMOTE_strat\")\n",
    "plot_roc_curves_multiclass_strat(lr, X, y, n_splits=10, save_folder=path_strat_ROC, model_name=\"lr_KFold_Strat\")\n",
    "plot_roc_curves_multiclass_smote(lr, X, y, n_splits=10, save_folder=path_smote_ROC, model_name=\"lr_KFold_SMOTE\")\n"
   ]
  },
  {
   "cell_type": "code",
   "execution_count": null,
   "metadata": {},
   "outputs": [],
   "source": []
  }
 ],
 "metadata": {
  "kernelspec": {
   "display_name": "scikit-learn",
   "language": "python",
   "name": "python3"
  },
  "language_info": {
   "codemirror_mode": {
    "name": "ipython",
    "version": 3
   },
   "file_extension": ".py",
   "mimetype": "text/x-python",
   "name": "python",
   "nbconvert_exporter": "python",
   "pygments_lexer": "ipython3",
   "version": "3.11.7"
  }
 },
 "nbformat": 4,
 "nbformat_minor": 2
}
