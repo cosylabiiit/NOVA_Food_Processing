{
 "cells": [
  {
   "cell_type": "code",
   "execution_count": null,
   "metadata": {},
   "outputs": [],
   "source": [
    "import numpy as np\n",
    "import pandas as pd\n",
    "import pickle\n",
    "import matplotlib.pyplot as plt\n"
   ]
  },
  {
   "cell_type": "code",
   "execution_count": null,
   "metadata": {},
   "outputs": [],
   "source": [
    "\n",
    "def load_pkl_file(file_path):\n",
    "    with open(file_path, 'rb') as file:\n",
    "        loaded_object = pickle.load(file)\n",
    "    return loaded_object\n",
    "\n"
   ]
  },
  {
   "cell_type": "code",
   "execution_count": null,
   "metadata": {},
   "outputs": [],
   "source": [
    "flavdesc=load_pkl_file('/home/nalin21478/BTP/ML-food-Processing/ML in Food Processing/Data/2007-10flav/FlavDesc.pkl')"
   ]
  },
  {
   "cell_type": "code",
   "execution_count": null,
   "metadata": {},
   "outputs": [],
   "source": [
    "flavdesc"
   ]
  },
  {
   "cell_type": "code",
   "execution_count": null,
   "metadata": {},
   "outputs": [],
   "source": [
    "flavval=load_pkl_file('/home/nalin21478/BTP/ML-food-Processing/ML in Food Processing/Data/2007-10flav/FlavVal.pkl')"
   ]
  },
  {
   "cell_type": "code",
   "execution_count": null,
   "metadata": {},
   "outputs": [],
   "source": [
    "flavval"
   ]
  },
  {
   "cell_type": "code",
   "execution_count": null,
   "metadata": {},
   "outputs": [],
   "source": [
    "columns = ['Food code', 'Nutrient code', 'Start date', 'End date', 'Nutrient value']\n",
    "\n",
    "\n",
    "df = pd.DataFrame(flavval, columns=columns)\n",
    "\n",
    "\n",
    "Food_Nut_conc = df.pivot(index='Food code', columns='Nutrient code', values='Nutrient value')\n",
    "\n",
    "Food_Nut_conc = Food_Nut_conc.reset_index()\n",
    "Food_Nut_conc.columns.name = None\n",
    "\n",
    "\n",
    "print(Food_Nut_conc)"
   ]
  },
  {
   "cell_type": "code",
   "execution_count": null,
   "metadata": {},
   "outputs": [],
   "source": [
    "Food_Nut_conc.columns"
   ]
  },
  {
   "cell_type": "code",
   "execution_count": null,
   "metadata": {},
   "outputs": [],
   "source": [
    "import pandas as pd\n",
    "\n",
    "def read_csv_to_dataframe(file_path):\n",
    "    try:\n",
    "        df = pd.read_csv(file_path)\n",
    "        return df\n",
    "    except Exception as e:\n",
    "        print(\"An error occurred:\", e)\n",
    "        return None\n"
   ]
  },
  {
   "cell_type": "code",
   "execution_count": null,
   "metadata": {},
   "outputs": [],
   "source": [
    "\n",
    "csv_file_path = '/home/nalin21478/BTP/ML-food-Processing/ML in Food Processing/Data/FNDDS_2009-10_Training_Data.csv'\n",
    "complete_data_w_nova_classification = read_csv_to_dataframe(csv_file_path)\n"
   ]
  },
  {
   "cell_type": "code",
   "execution_count": null,
   "metadata": {},
   "outputs": [],
   "source": [
    "complete_data_w_nova_classification"
   ]
  },
  {
   "cell_type": "code",
   "execution_count": null,
   "metadata": {},
   "outputs": [],
   "source": [
    "nova_classified_data = complete_data_w_nova_classification[\n",
    "    complete_data_w_nova_classification['novaclass'].isin([1, 2, 3, 4])\n",
    "]\n",
    "\n",
    "(nova_classified_data)"
   ]
  },
  {
   "cell_type": "code",
   "execution_count": null,
   "metadata": {},
   "outputs": [],
   "source": [
    "\n",
    "columns_to_include = ['Food_code', 'Main_food_description', 'catnumb', 'catname', 'novaclass', 'macroclass']\n",
    "\n",
    "food_coded_nova_class = nova_classified_data[columns_to_include].copy()\n",
    "\n",
    "\n"
   ]
  },
  {
   "cell_type": "code",
   "execution_count": null,
   "metadata": {},
   "outputs": [],
   "source": [
    "food_coded_nova_class"
   ]
  },
  {
   "cell_type": "code",
   "execution_count": null,
   "metadata": {},
   "outputs": [],
   "source": [
    "nutrient_conc=read_csv_to_dataframe(\"/home/nalin21478/BTP/ML-food-Processing/ML in Food Processing/Data/nutrient_conc_nova_classified.csv\")"
   ]
  },
  {
   "cell_type": "code",
   "execution_count": null,
   "metadata": {},
   "outputs": [],
   "source": [
    "nutrient_conc"
   ]
  },
  {
   "cell_type": "code",
   "execution_count": null,
   "metadata": {},
   "outputs": [],
   "source": [
    "nutrient_flav_conc_nova_classified = pd.merge(nutrient_conc, Food_Nut_conc, left_on='Food code', right_on='Food code', how='inner')\n"
   ]
  },
  {
   "cell_type": "code",
   "execution_count": null,
   "metadata": {},
   "outputs": [],
   "source": [
    "nutrient_flav_conc_nova_classified"
   ]
  },
  {
   "cell_type": "code",
   "execution_count": null,
   "metadata": {},
   "outputs": [],
   "source": [
    "nutrient_dict = {}\n",
    "\n",
    "for index, row in flavdesc.iterrows():\n",
    "    nutrient_code = row['Nutrient code']\n",
    "\n",
    "    unit = row['Unit']\n",
    "    nutrient_dict[nutrient_code] = {'description': row['Flavonoid description']}\n",
    "\n"
   ]
  },
  {
   "cell_type": "code",
   "execution_count": null,
   "metadata": {},
   "outputs": [],
   "source": [
    "for nutrient_code in nutrient_dict:\n",
    "    nutrient_description = nutrient_dict[nutrient_code]['description']\n",
    "    nutrient_flav_conc_nova_classified.rename(columns={nutrient_code: nutrient_description}, inplace=True)\n",
    "\n"
   ]
  },
  {
   "cell_type": "code",
   "execution_count": null,
   "metadata": {},
   "outputs": [],
   "source": [
    "nutrient_flav_conc_nova_classified.columns"
   ]
  },
  {
   "cell_type": "code",
   "execution_count": null,
   "metadata": {},
   "outputs": [],
   "source": [
    "nutrient_flav_conc_nova_classified.to_csv('/home/nalin21478/BTP/ML-food-Processing/Numerical_Textual_ML/Data/102_Nuts', index=False)"
   ]
  },
  {
   "cell_type": "code",
   "execution_count": null,
   "metadata": {},
   "outputs": [],
   "source": [
    "def move_column_to_end(df, column_name):\n",
    "    column = df.pop(column_name)\n",
    "    df[column_name] = column\n",
    "    return df"
   ]
  },
  {
   "cell_type": "code",
   "execution_count": null,
   "metadata": {},
   "outputs": [],
   "source": [
    "nutrient_flav_conc_nova_classified=move_column_to_end(nutrient_flav_conc_nova_classified,'novaclass')"
   ]
  },
  {
   "cell_type": "code",
   "execution_count": null,
   "metadata": {},
   "outputs": [],
   "source": [
    "nutrient_flav_conc_nova_classified=nutrient_flav_conc_nova_classified.drop(columns=['Food code'])"
   ]
  },
  {
   "cell_type": "code",
   "execution_count": null,
   "metadata": {},
   "outputs": [],
   "source": [
    "nutrient_flav_conc_nova_classified"
   ]
  },
  {
   "cell_type": "code",
   "execution_count": null,
   "metadata": {},
   "outputs": [],
   "source": [
    "def check_missing_data(df):\n",
    "    missing_data = df.isnull().sum().sort_values(ascending=False)\n",
    "    percent_missing = (df.isnull().sum()/df.isnull().count()).sort_values(ascending=False)\n",
    "    missing_data = pd.concat([missing_data, percent_missing], axis=1, keys=['Total', 'Percent'])\n",
    "    return missing_data"
   ]
  },
  {
   "cell_type": "code",
   "execution_count": null,
   "metadata": {},
   "outputs": [],
   "source": [
    "check_missing_data(nutrient_flav_conc_nova_classified)"
   ]
  },
  {
   "cell_type": "code",
   "execution_count": null,
   "metadata": {},
   "outputs": [],
   "source": [
    "nutrient_flav_conc_nova_classified=nutrient_flav_conc_nova_classified.drop(columns=['Main_food_description'])"
   ]
  },
  {
   "cell_type": "code",
   "execution_count": null,
   "metadata": {},
   "outputs": [],
   "source": [
    "corr=nutrient_flav_conc_nova_classified.corr()\n",
    "\n",
    "\n",
    "\n",
    "plt.figure(figsize=(10*3, 8*3))\n",
    "sns.heatmap(corr,cmap='coolwarm', fmt=\".2f\")\n",
    "\n",
    "plt.title('Correlation Heatmap')\n",
    "plt.show()\n"
   ]
  },
  {
   "cell_type": "code",
   "execution_count": null,
   "metadata": {},
   "outputs": [],
   "source": [
    "novaclass=nutrient_flav_conc_nova_classified['novaclass']"
   ]
  },
  {
   "cell_type": "code",
   "execution_count": null,
   "metadata": {},
   "outputs": [],
   "source": [
    "nutrient_flav_conc_nova_classified.to_csv('/home/nalin21478/BTP/ML-food-Processing/ML in Food Processing/Data/102_Data.csv',index=False)"
   ]
  },
  {
   "cell_type": "code",
   "execution_count": null,
   "metadata": {},
   "outputs": [],
   "source": [
    "import pandas as pd\n",
    "from sklearn.preprocessing import StandardScaler\n",
    "\n",
    "\n",
    "\n",
    "\n",
    "nutrient_flav_conc_nova_classified_copy=nutrient_flav_conc_nova_classified.copy()\n",
    "nutrient_flav_conc_nova_classified_copy=nutrient_flav_conc_nova_classified_copy.drop(columns=['novaclass'])\n",
    "\n",
    "scaler = StandardScaler()\n",
    "\n",
    "\n",
    "scaled_data = scaler.fit_transform(nutrient_flav_conc_nova_classified_copy)\n",
    "\n"
   ]
  },
  {
   "cell_type": "code",
   "execution_count": null,
   "metadata": {},
   "outputs": [],
   "source": [
    "import joblib\n",
    "joblib.dump(scaler, '/home/nalin21478/BTP/ML-food-Processing/ML in Food Processing/Models/scaler_65.pkl')"
   ]
  },
  {
   "cell_type": "code",
   "execution_count": null,
   "metadata": {},
   "outputs": [],
   "source": [
    "scaled_data = pd.DataFrame(scaled_data, columns=nutrient_flav_conc_nova_classified_copy.columns)"
   ]
  },
  {
   "cell_type": "code",
   "execution_count": null,
   "metadata": {},
   "outputs": [],
   "source": [
    "scaled_data['novaclass'] = nutrient_flav_conc_nova_classified['novaclass']"
   ]
  },
  {
   "cell_type": "code",
   "execution_count": null,
   "metadata": {},
   "outputs": [],
   "source": [
    "scaled_data"
   ]
  },
  {
   "cell_type": "code",
   "execution_count": null,
   "metadata": {},
   "outputs": [],
   "source": [
    "\n",
    "from sklearn.manifold import TSNE\n",
    "\n",
    "\n",
    "def apply_tsne_and_group(scaled_data, novaclass,perplexity, num_components, col, output_folder):\n",
    "\n",
    "\n",
    "    tsne = TSNE(n_components=num_components, perplexity=perplexity, random_state=0)\n",
    "    tsne_result = tsne.fit_transform(scaled_data)\n",
    "\n",
    "\n",
    "    tsne_df = pd.DataFrame(tsne_result, columns=[f'tsne_{i+1}' for i in range(num_components)])\n",
    "    tsne_df['novaclass'] = novaclass\n",
    "\n",
    "    # Plot and save the t-SNE visualization\n",
    "    plt.figure(figsize=(10, 8))\n",
    "    sns.scatterplot(data=tsne_df, x='tsne_1', y='tsne_2', hue='novaclass', palette='Set1')\n",
    "    plt.title(f\"t-SNE Visualization by novaclass (Perplexity: {perplexity}, Column: {col})\")\n",
    "\n",
    "    # Construct the file path for saving the plot\n",
    "    plot_filename = os.path.join(output_folder, f\"tsne_visualization_perplexity{perplexity}_col{col}.png\")\n",
    "\n",
    "    # Save the plot as an image file\n",
    "    plt.savefig(plot_filename)\n",
    "\n",
    "    # Show the plot (optional)\n",
    "    # plt.show()\n",
    "    \n",
    "\n",
    "    return tsne_df\n",
    "\n",
    "\n"
   ]
  },
  {
   "cell_type": "code",
   "execution_count": null,
   "metadata": {},
   "outputs": [],
   "source": [
    "output_folder=\"/home/nalin21478/BTP/ML-food-Processing/ML in Food Processing/Graphs/flavsnnuts/TSNE\""
   ]
  },
  {
   "cell_type": "code",
   "execution_count": null,
   "metadata": {},
   "outputs": [],
   "source": [
    "apply_tsne_and_group(scaled_data, novaclass, 5, 2, 'novaclass', output_folder)\n",
    "apply_tsne_and_group(scaled_data, novaclass, 5*2, 2, 'novaclass', output_folder)\n",
    "apply_tsne_and_group(scaled_data, novaclass, 5*3, 2, 'novaclass', output_folder)\n",
    "apply_tsne_and_group(scaled_data, novaclass, 5*4, 2, 'novaclass', output_folder)\n",
    "apply_tsne_and_group(scaled_data, novaclass, 5*5, 2, 'novaclass', output_folder)\n",
    "apply_tsne_and_group(scaled_data, novaclass, 5*6, 2, 'novaclass', output_folder)\n",
    "apply_tsne_and_group(scaled_data, novaclass, 5*7, 2, 'novaclass', output_folder)\n",
    "apply_tsne_and_group(scaled_data, novaclass, 5*8, 2, 'novaclass', output_folder)\n",
    "apply_tsne_and_group(scaled_data, novaclass, 5*9, 2, 'novaclass', output_folder)\n",
    "apply_tsne_and_group(scaled_data, novaclass, 5*10, 2, 'novaclass', output_folder)"
   ]
  },
  {
   "cell_type": "code",
   "execution_count": null,
   "metadata": {},
   "outputs": [],
   "source": [
    "from sklearn.model_selection import train_test_split\n",
    "Independent_features = scaled_data.iloc[:, :-1].values\n",
    "dependent_feature = scaled_data.iloc[:, -1].values\n",
    "X_train, X_test, y_train, y_test = train_test_split(\n",
    "        Independent_features, dependent_feature, test_size=0.2, random_state=0\n",
    "    )"
   ]
  },
  {
   "cell_type": "code",
   "execution_count": null,
   "metadata": {},
   "outputs": [],
   "source": [
    "dependent_feature"
   ]
  },
  {
   "cell_type": "code",
   "execution_count": null,
   "metadata": {},
   "outputs": [],
   "source": [
    "from sklearn.metrics import accuracy_score, classification_report, confusion_matrix\n",
    "from sklearn.model_selection import KFold\n",
    "\n",
    "def evaluate_classifier_with_kfold(X_train, y_train, X_test, y_test, classifier, num_folds=10):\n",
    "\n",
    "    k_fold = KFold(n_splits=num_folds, shuffle=True, random_state=0)\n",
    "    \n",
    "\n",
    "    accuracies = []\n",
    "\n",
    "\n",
    "    for train_indices, val_indices in k_fold.split(X_train, y_train):\n",
    "        X_fold_train, X_fold_val = X_train[train_indices], X_train[val_indices]\n",
    "        y_fold_train, y_fold_val = y_train[train_indices], y_train[val_indices]\n",
    "\n",
    "        \n",
    "        classifier.fit(X_fold_train, y_fold_train)\n",
    "\n",
    "    \n",
    "        y_val_pred = classifier.predict(X_fold_val)\n",
    "\n",
    "     \n",
    "        fold_accuracy = accuracy_score(y_fold_val, y_val_pred)\n",
    "        accuracies.append(fold_accuracy)\n",
    "\n",
    "   \n",
    "    average_accuracy = sum(accuracies) / num_folds\n",
    "    print(f'Average Accuracy Train: {average_accuracy*100}')\n",
    "\n",
    "    \n",
    "    y_pred = classifier.predict(X_test)\n",
    "    accuracy = accuracy_score(y_test, y_pred)\n",
    "    print(f'Accuracy Test: {accuracy*100:.2f}%')\n",
    "    \n",
    "    \n",
    "    class_report = classification_report(y_test, y_pred)\n",
    "    print('Classification Report:')\n",
    "    print(class_report)\n",
    "    \n",
    "    \n",
    "    conf_matrix = confusion_matrix(y_test, y_pred)\n",
    "    print('Confusion Matrix:')\n",
    "    print(conf_matrix)\n",
    "\n",
    "\n",
    "\n"
   ]
  },
  {
   "cell_type": "code",
   "execution_count": null,
   "metadata": {},
   "outputs": [],
   "source": [
    "from sklearn.tree import DecisionTreeClassifier\n",
    "print(\"DECISION TREE ENTROPY \\n\")\n",
    "decision_tree_entropy=DecisionTreeClassifier(criterion = 'entropy', random_state = 0)\n",
    "evaluate_classifier_with_kfold(X_train, y_train, X_test, y_test, decision_tree_entropy, num_folds=10)"
   ]
  },
  {
   "cell_type": "code",
   "execution_count": null,
   "metadata": {},
   "outputs": [],
   "source": [
    "from sklearn.tree import DecisionTreeClassifier\n",
    "print(\"DECISION TREE ENTROPY \\n\")\n",
    "decision_tree_entropy=DecisionTreeClassifier(criterion = 'gini', random_state = 0)\n",
    "evaluate_classifier_with_kfold(X_train, y_train, X_test, y_test, decision_tree_entropy, num_folds=10)"
   ]
  },
  {
   "cell_type": "code",
   "execution_count": null,
   "metadata": {},
   "outputs": [],
   "source": [
    "\n",
    "from sklearn.ensemble import RandomForestClassifier\n",
    "print(\"RANDOM FOREST CLASSIFIER \\n\")\n",
    "random_forest_classifier = RandomForestClassifier(random_state=42)\n",
    "evaluate_classifier_with_kfold(X_train, y_train, X_test, y_test, random_forest_classifier, num_folds=10)\n",
    "\n",
    "\n"
   ]
  },
  {
   "cell_type": "code",
   "execution_count": null,
   "metadata": {},
   "outputs": [],
   "source": [
    "\n",
    "from sklearn.naive_bayes import GaussianNB\n",
    "print(\"NAIVE BAYES CLASSIFIER \\n\")\n",
    "\n",
    "# Initialize the Naive Bayes Classifier\n",
    "nb_classifier = GaussianNB()\n",
    "\n",
    "evaluate_classifier_with_kfold(X_train, y_train, X_test, y_test, nb_classifier, num_folds=10)\n"
   ]
  },
  {
   "cell_type": "code",
   "execution_count": null,
   "metadata": {},
   "outputs": [],
   "source": [
    "\n",
    "from sklearn.svm import SVC\n",
    "\n",
    "print(\"SVM LINEAR CLASSIFIER \\n\")\n",
    "# Initialize the SVM Classifier with a linear kernel\n",
    "svm__linear_classifier = SVC(kernel='linear', random_state=0)\n",
    "\n",
    "evaluate_classifier_with_kfold(X_train, y_train, X_test, y_test, svm__linear_classifier, num_folds=10)"
   ]
  },
  {
   "cell_type": "code",
   "execution_count": null,
   "metadata": {},
   "outputs": [],
   "source": [
    "\n",
    "from sklearn.svm import SVC\n",
    "\n",
    "print(\"SVM poly CLASSIFIER \\n\")\n",
    "# Initialize the SVM Classifier with a linear kernel\n",
    "svm__linear_classifier = SVC(kernel='poly', random_state=0)\n",
    "\n",
    "evaluate_classifier_with_kfold(X_train, y_train, X_test, y_test, svm__linear_classifier, num_folds=10)"
   ]
  },
  {
   "cell_type": "code",
   "execution_count": null,
   "metadata": {},
   "outputs": [],
   "source": [
    "\n",
    "from sklearn.svm import SVC\n",
    "\n",
    "print(\"SVM RBF CLASSIFIER \\n\")\n",
    "\n",
    "svm__rbf_classifier = SVC(random_state=0)\n",
    "evaluate_classifier_with_kfold(X_train, y_train, X_test, y_test, svm__rbf_classifier, num_folds=10)"
   ]
  },
  {
   "cell_type": "code",
   "execution_count": null,
   "metadata": {},
   "outputs": [],
   "source": [
    "\n",
    "from sklearn.svm import SVC\n",
    "\n",
    "print(\"SVM SIGMOID CLASSIFIER \\n\")\n",
    "\n",
    "svm__sigmoid_classifier = SVC(kernel='sigmoid', random_state=0)\n",
    "evaluate_classifier_with_kfold(X_train, y_train, X_test, y_test, svm__sigmoid_classifier, num_folds=10)"
   ]
  },
  {
   "cell_type": "code",
   "execution_count": null,
   "metadata": {},
   "outputs": [],
   "source": [
    "\n",
    "from sklearn.neighbors import KNeighborsClassifier\n",
    "\n",
    "\n",
    "\n",
    "knn_classifier = KNeighborsClassifier()\n",
    "\n",
    "\n",
    "\n",
    "\n",
    "print(\"KNN CLASSIFIER \\n\")\n",
    "evaluate_classifier_with_kfold(X_train, y_train, X_test, y_test, knn_classifier, num_folds=10)\n",
    "\n"
   ]
  },
  {
   "cell_type": "code",
   "execution_count": null,
   "metadata": {},
   "outputs": [],
   "source": [
    "\n",
    "from sklearn.linear_model import LogisticRegression\n",
    "\n",
    "lr_classifier = LogisticRegression(multi_class='multinomial', solver='lbfgs', max_iter=1000)\n",
    "\n",
    "print(\"LOGISTIC REGRESSION CLASSIFIER \\n\")\n",
    "evaluate_classifier_with_kfold(X_train, y_train, X_test, y_test, lr_classifier, num_folds=10)\n"
   ]
  },
  {
   "cell_type": "code",
   "execution_count": null,
   "metadata": {},
   "outputs": [],
   "source": [
    "\n",
    "from sklearn.ensemble import GradientBoostingClassifier\n",
    "\n",
    "\n",
    "# Initialize the Gradient Boosting Classifier\n",
    "gb_classifier = GradientBoostingClassifier(n_estimators=100, random_state=0)\n",
    "print(\"GRADIENT BOOSTING CLASSIFIER \\n\")\n",
    "evaluate_classifier_with_kfold(X_train, y_train, X_test, y_test, gb_classifier, num_folds=10)\n"
   ]
  },
  {
   "cell_type": "code",
   "execution_count": null,
   "metadata": {},
   "outputs": [],
   "source": [
    "\n",
    "from sklearn.ensemble import AdaBoostClassifier\n",
    "\n",
    "ab_classifier = AdaBoostClassifier( random_state=0)\n",
    "print(\"ADABOOST CLASSIFIER \\n\")\n",
    "evaluate_classifier_with_kfold(X_train, y_train, X_test, y_test, ab_classifier, num_folds=10)\n",
    "\n"
   ]
  },
  {
   "cell_type": "code",
   "execution_count": null,
   "metadata": {},
   "outputs": [],
   "source": [
    "\n",
    "from sklearn.neural_network import MLPClassifier\n",
    "\n",
    "\n",
    "\n",
    "mlp_classifier = MLPClassifier( random_state=0)\n",
    "print(\"MLP CLASSIFIER \\n\")\n",
    "evaluate_classifier_with_kfold(X_train, y_train, X_test, y_test, mlp_classifier, num_folds=10)\n",
    "\n"
   ]
  },
  {
   "cell_type": "code",
   "execution_count": null,
   "metadata": {},
   "outputs": [],
   "source": []
  }
 ],
 "metadata": {
  "kernelspec": {
   "display_name": "myenv",
   "language": "python",
   "name": "python3"
  },
  "language_info": {
   "codemirror_mode": {
    "name": "ipython",
    "version": 3
   },
   "file_extension": ".py",
   "mimetype": "text/x-python",
   "name": "python",
   "nbconvert_exporter": "python",
   "pygments_lexer": "ipython3",
   "version": "3.11.8"
  }
 },
 "nbformat": 4,
 "nbformat_minor": 2
}
